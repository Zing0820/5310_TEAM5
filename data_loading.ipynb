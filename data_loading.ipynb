{
 "cells": [
  {
   "cell_type": "code",
   "execution_count": 47,
   "id": "670021a7",
   "metadata": {},
   "outputs": [],
   "source": [
    "import pandas as pd\n",
    "from sqlalchemy import create_engine"
   ]
  },
  {
   "cell_type": "code",
   "execution_count": 48,
   "id": "237d69c8",
   "metadata": {},
   "outputs": [
    {
     "name": "stdout",
     "output_type": "stream",
     "text": [
      "Requirement already satisfied: psycopg2-binary in /Library/Frameworks/Python.framework/Versions/3.11/lib/python3.11/site-packages (2.9.6)\n",
      "Note: you may need to restart the kernel to use updated packages.\n"
     ]
    }
   ],
   "source": [
    "pip install psycopg2-binary"
   ]
  },
  {
   "cell_type": "code",
   "execution_count": 49,
   "id": "1c499e6d",
   "metadata": {},
   "outputs": [],
   "source": [
    "import psycopg2\n"
   ]
  },
  {
   "cell_type": "code",
   "execution_count": 50,
   "id": "1a6c8db3",
   "metadata": {},
   "outputs": [],
   "source": [
    "from psycopg2 import sql\n"
   ]
  },
  {
   "attachments": {},
   "cell_type": "markdown",
   "id": "2adb81d6",
   "metadata": {},
   "source": [
    "# user table"
   ]
  },
  {
   "cell_type": "code",
   "execution_count": 51,
   "id": "5c20c75c",
   "metadata": {},
   "outputs": [],
   "source": [
    "conn = psycopg2.connect( \n",
    "                        database=\"project5310\",\n",
    "                        user='postgres', password='123', \n",
    "                        host='localhost', port='5432'\n",
    ")\n",
    "  \n",
    "conn.autocommit = True\n",
    "cursor = conn.cursor()\n",
    "cursor.execute('DROP TABLE IF EXISTS \"user\" CASCADE;')\n",
    "pro1 = '''CREATE TABLE \"user\"\n",
    "(\n",
    "  user_id char(15) primary key,\n",
    "  order_number int\n",
    ");'''\n",
    "  \n",
    "  \n",
    "cursor.execute(pro1)"
   ]
  },
  {
   "cell_type": "code",
   "execution_count": 52,
   "id": "96d79f57",
   "metadata": {},
   "outputs": [],
   "source": [
    "pro2 = sql.SQL(\"COPY {} (user_id,order_number) FROM STDIN WITH DELIMITER ',' CSV HEADER\").format(\n",
    "    sql.Identifier(\"user\")\n",
    ")\n",
    "filepath = \"user.csv\"\n",
    "with open(filepath, 'r') as k:\n",
    "        cursor.copy_expert(pro2, k)"
   ]
  },
  {
   "cell_type": "code",
   "execution_count": 53,
   "id": "6e4af4ff",
   "metadata": {},
   "outputs": [
    {
     "name": "stdout",
     "output_type": "stream",
     "text": [
      "('2              ', 2)\n",
      "('3              ', 3)\n",
      "('7              ', 1)\n",
      "('10             ', 1)\n",
      "('11             ', 1)\n",
      "('13             ', 1)\n",
      "('17             ', 1)\n",
      "('21             ', 1)\n",
      "('22             ', 1)\n",
      "('24             ', 2)\n",
      "('26             ', 1)\n"
     ]
    }
   ],
   "source": [
    "pro3 = '''SELECT * FROM \"user\" LIMIT 11;'''\n",
    "\n",
    "cursor.execute(pro3)\n",
    "for i in cursor.fetchall():\n",
    "    print(i)\n"
   ]
  },
  {
   "attachments": {},
   "cell_type": "markdown",
   "id": "848e90f0",
   "metadata": {},
   "source": [
    "# department table"
   ]
  },
  {
   "cell_type": "code",
   "execution_count": 56,
   "id": "7865e825",
   "metadata": {},
   "outputs": [],
   "source": [
    "pro15 = '''\n",
    "DROP TABLE IF EXISTS department CASCADE;\n",
    "CREATE TABLE IF NOT EXISTS department \n",
    "(\n",
    "  department_id char(5) primary key,\n",
    "  department varchar(30) not null\n",
    ");'''\n",
    "  \n",
    "  \n",
    "cursor.execute(pro15)\n",
    "\n",
    "pro16 = sql.SQL(\"COPY {} (department_id,department) FROM STDIN WITH DELIMITER ',' CSV HEADER\").format(\n",
    "    sql.Identifier(\"department\")\n",
    ")\n",
    "filepath = \"department.csv\"\n",
    "with open(filepath, 'r') as k:\n",
    "        cursor.copy_expert(pro16, k)"
   ]
  },
  {
   "cell_type": "code",
   "execution_count": 57,
   "id": "79dd770b",
   "metadata": {},
   "outputs": [
    {
     "name": "stdout",
     "output_type": "stream",
     "text": [
      "('1    ', 'frozen')\n",
      "('2    ', 'other')\n",
      "('3    ', 'bakery')\n",
      "('4    ', 'produce')\n",
      "('5    ', 'alcohol')\n",
      "('6    ', 'international')\n",
      "('7    ', 'beverages')\n",
      "('8    ', 'pets')\n",
      "('9    ', 'dry goods pasta')\n",
      "('10   ', 'bulk')\n"
     ]
    }
   ],
   "source": [
    "pro16 = '''SELECT * FROM \"department\" LIMIT 10;'''\n",
    "\n",
    "cursor.execute(pro16)\n",
    "for i in cursor.fetchall():\n",
    "    print(i)"
   ]
  },
  {
   "attachments": {},
   "cell_type": "markdown",
   "id": "f42ebd27",
   "metadata": {},
   "source": [
    "# product_dept table"
   ]
  },
  {
   "cell_type": "code",
   "execution_count": 58,
   "id": "7c7fb1bd",
   "metadata": {},
   "outputs": [],
   "source": [
    "\n",
    "\n",
    "pro4 = '''\n",
    "DROP TABLE IF EXISTS product_dept CASCADE;\n",
    "CREATE TABLE product_dept \n",
    "(\n",
    "  product_id char(5) primary key,\n",
    "  product_name varchar(50) not null,\n",
    "  department_id varchar(30) not null,\n",
    "  foreign key (department_id) REFERENCES department (department_id)  \n",
    ");'''\n",
    "  \n",
    "  \n",
    "cursor.execute(pro4)\n",
    "\n",
    "pro5 = sql.SQL(\"COPY {} (product_id,product_name,department_id) FROM STDIN WITH DELIMITER ',' CSV HEADER\").format(\n",
    "    sql.Identifier(\"product_dept\")\n",
    ")\n",
    "filepath = \"product_dept.csv\"\n",
    "with open(filepath, 'r') as k:\n",
    "        cursor.copy_expert(pro5, k)"
   ]
  },
  {
   "cell_type": "code",
   "execution_count": 59,
   "id": "39893d6a",
   "metadata": {},
   "outputs": [
    {
     "name": "stdout",
     "output_type": "stream",
     "text": [
      "('1    ', 'prepared soups salads', '20')\n",
      "('2    ', 'specialty cheeses', '16')\n",
      "('3    ', 'energy granola bars', '19')\n",
      "('4    ', 'instant foods', '9')\n",
      "('5    ', 'marinades meat preparation', '13')\n",
      "('6    ', 'other', '2')\n",
      "('7    ', 'packaged meat', '12')\n",
      "('8    ', 'bakery desserts', '3')\n",
      "('9    ', 'pasta sauce', '9')\n",
      "('10   ', 'kitchen supplies', '17')\n",
      "('11   ', 'cold flu allergy', '11')\n"
     ]
    }
   ],
   "source": [
    "pro6 = '''SELECT * FROM product_dept LIMIT 11;'''\n",
    "\n",
    "cursor.execute(pro6)\n",
    "for i in cursor.fetchall():\n",
    "    print(i)"
   ]
  },
  {
   "attachments": {},
   "cell_type": "markdown",
   "id": "67904d3b",
   "metadata": {},
   "source": [
    "# product_order table"
   ]
  },
  {
   "cell_type": "code",
   "execution_count": 61,
   "id": "695a1bec",
   "metadata": {},
   "outputs": [],
   "source": [
    "cursor.execute(\"DROP TABLE IF EXISTS product_order CASCADE;\")\n",
    "\n",
    "\n",
    "pro7 = '''CREATE TABLE product_order \n",
    "(\n",
    "  cart_id char(10) primary key,\n",
    "  product_id char(5) not null,\n",
    "  add_to_cart_order int,\n",
    "  foreign key (product_id) REFERENCES product_dept (product_id)\n",
    ");'''\n",
    "  \n",
    "  \n",
    "cursor.execute(pro7)\n",
    "\n",
    "pro8 = sql.SQL(\"COPY {} (cart_id,product_id,add_to_cart_order) FROM STDIN WITH DELIMITER ',' CSV HEADER\").format(\n",
    "    sql.Identifier(\"product_order\")\n",
    ")\n",
    "filepath = \"product_order.csv\"\n",
    "with open(filepath, 'r') as k:\n",
    "        cursor.copy_expert(pro8, k)"
   ]
  },
  {
   "cell_type": "code",
   "execution_count": 62,
   "id": "7b14f776",
   "metadata": {},
   "outputs": [
    {
     "name": "stdout",
     "output_type": "stream",
     "text": [
      "('100000_1  ', '27   ', 1)\n",
      "('100000_10 ', '72   ', 10)\n",
      "('100000_11 ', '72   ', 11)\n",
      "('100000_2  ', '27   ', 2)\n",
      "('100000_3  ', '98   ', 3)\n",
      "('100000_4  ', '107  ', 4)\n",
      "('100000_5  ', '123  ', 5)\n",
      "('100000_6  ', '72   ', 6)\n",
      "('100000_7  ', '89   ', 7)\n",
      "('100000_8  ', '105  ', 8)\n"
     ]
    }
   ],
   "source": [
    "pro9 = '''SELECT * FROM product_order LIMIT 10;'''\n",
    "\n",
    "cursor.execute(pro9)\n",
    "for i in cursor.fetchall():\n",
    "    print(i)"
   ]
  },
  {
   "attachments": {},
   "cell_type": "markdown",
   "id": "43041be7",
   "metadata": {},
   "source": [
    "# order table"
   ]
  },
  {
   "cell_type": "code",
   "execution_count": 63,
   "id": "c717f499",
   "metadata": {},
   "outputs": [],
   "source": [
    "pro10 = '''\n",
    "DROP TABLE IF EXISTS \"order\" CASCADE;\n",
    "CREATE TABLE \"order\" \n",
    "(\n",
    "  order_id char(7) not null primary key,\n",
    "  user_id char(10) not null,\n",
    "  cart_id char(10) not null,\n",
    "  order_hour_of_day integer not null,\n",
    "  days_since_prior_order numeric,\n",
    "  foreign key (cart_id) REFERENCES product_order (cart_id),\n",
    "  foreign key (user_id) REFERENCES \"user\" (user_id)\n",
    ");'''\n",
    "  \n",
    "  \n",
    "cursor.execute(pro10)\n",
    "\n",
    "pro11 = sql.SQL(\"COPY {} (order_id,user_id,cart_id,order_hour_of_day,days_since_prior_order) FROM STDIN WITH DELIMITER ',' CSV HEADER\").format(\n",
    "    sql.Identifier(\"order\")\n",
    ")\n",
    "filepath = \"order.csv\"\n",
    "with open(filepath, 'r') as k:\n",
    "        cursor.copy_expert(pro11, k)"
   ]
  },
  {
   "cell_type": "code",
   "execution_count": 64,
   "id": "37dc7381",
   "metadata": {},
   "outputs": [
    {
     "name": "stdout",
     "output_type": "stream",
     "text": [
      "('1501582', '2         ', '2_1       ', 10, Decimal('10.0'))\n",
      "('1901567', '2         ', '2_11      ', 10, Decimal('3.0'))\n",
      "('521107 ', '3         ', '3_12      ', 18, Decimal('11.0'))\n",
      "('2037211', '3         ', '3_19      ', 18, Decimal('20.0'))\n",
      "('444309 ', '3         ', '3_9       ', 19, Decimal('9.0'))\n",
      "('121053 ', '7         ', '7_15      ', 18, Decimal('30.0'))\n",
      "('83395  ', '10        ', '10_18     ', 15, Decimal('14.0'))\n",
      "('2921164', '11        ', '11_8      ', 11, Decimal('30.0'))\n",
      "('1906169', '13        ', '13_7      ', 8, Decimal('7.0'))\n",
      "('3141030', '17        ', '17_1      ', 12, Decimal('4.0'))\n"
     ]
    }
   ],
   "source": [
    "pro10 = '''SELECT * FROM \"order\" LIMIT 10;'''\n",
    "\n",
    "cursor.execute(pro10)\n",
    "for i in cursor.fetchall():\n",
    "    print(i)"
   ]
  },
  {
   "attachments": {},
   "cell_type": "markdown",
   "id": "fc2fb2c1",
   "metadata": {},
   "source": [
    "# reorder table"
   ]
  },
  {
   "cell_type": "code",
   "execution_count": 65,
   "id": "6ba3c73f",
   "metadata": {},
   "outputs": [],
   "source": [
    "pro12 = '''\n",
    "DROP TABLE IF EXISTS \"reorder\" CASCADE;\n",
    "CREATE TABLE \"reorder\" \n",
    "(\n",
    "  Number varchar(20),\n",
    "  user_id char(7),\n",
    "  order_id char(10) not null,\n",
    "  product_id char(10)not null,\n",
    "  reordered integer not null,\n",
    "  primary key (Number),\n",
    "  foreign key (product_id) REFERENCES product_dept (product_id),\n",
    "  foreign key (user_id) REFERENCES \"user\" (user_id)\n",
    "\n",
    "  \n",
    ");'''\n",
    "  \n",
    "  \n",
    "cursor.execute(pro12)\n",
    "\n",
    "pro13 = sql.SQL(\"COPY {} (Number,user_id,order_id,product_id,reordered) FROM STDIN WITH DELIMITER ',' CSV HEADER\").format(\n",
    "    sql.Identifier(\"reorder\")\n",
    ")\n",
    "filepath = \"reorder.csv\"\n",
    "with open(filepath, 'r') as k:\n",
    "        cursor.copy_expert(pro13, k)"
   ]
  },
  {
   "cell_type": "code",
   "execution_count": 66,
   "id": "4effb591",
   "metadata": {},
   "outputs": [
    {
     "name": "stdout",
     "output_type": "stream",
     "text": [
      "('1', '2      ', '1501582   ', '24        ', 0)\n",
      "('2', '2      ', '1501582   ', '21        ', 0)\n",
      "('3', '2      ', '1501582   ', '78        ', 0)\n",
      "('4', '2      ', '1501582   ', '24        ', 1)\n",
      "('5', '2      ', '1501582   ', '107       ', 0)\n",
      "('6', '2      ', '1501582   ', '67        ', 0)\n",
      "('7', '2      ', '1901567   ', '24        ', 1)\n",
      "('8', '2      ', '1901567   ', '23        ', 1)\n",
      "('9', '2      ', '1901567   ', '96        ', 1)\n",
      "('10', '2      ', '1901567   ', '21        ', 0)\n"
     ]
    }
   ],
   "source": [
    "pro14 = '''SELECT * FROM \"reorder\" LIMIT 10;'''\n",
    "\n",
    "cursor.execute(pro14)\n",
    "for i in cursor.fetchall():\n",
    "    print(i)"
   ]
  },
  {
   "cell_type": "code",
   "execution_count": null,
   "id": "6022484a",
   "metadata": {},
   "outputs": [],
   "source": []
  }
 ],
 "metadata": {
  "kernelspec": {
   "display_name": "Python 3 (ipykernel)",
   "language": "python",
   "name": "python3"
  },
  "language_info": {
   "codemirror_mode": {
    "name": "ipython",
    "version": 3
   },
   "file_extension": ".py",
   "mimetype": "text/x-python",
   "name": "python",
   "nbconvert_exporter": "python",
   "pygments_lexer": "ipython3",
   "version": "3.11.4"
  }
 },
 "nbformat": 4,
 "nbformat_minor": 5
}
